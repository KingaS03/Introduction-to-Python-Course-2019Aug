{
 "cells": [
  {
   "cell_type": "markdown",
   "metadata": {},
   "source": [
    "### Exercise 1\n",
    "\n",
    "* Determine the maximal element of a list of real numbers.\n",
    "* Determine the maximal element of a list and the position where is this maximum reached."
   ]
  },
  {
   "cell_type": "markdown",
   "metadata": {},
   "source": [
    "### Solution"
   ]
  },
  {
   "cell_type": "code",
   "execution_count": 12,
   "metadata": {},
   "outputs": [
    {
     "name": "stdout",
     "output_type": "stream",
     "text": [
      "Maximum: 7\n"
     ]
    }
   ],
   "source": [
    "L = [7, 2, 3, 1, 5, 1, 7]\n",
    "Maximum = max(L)\n",
    "print(\"Maximum: \" + str(Maximum))"
   ]
  },
  {
   "cell_type": "markdown",
   "metadata": {},
   "source": [
    "For the second part of the problem there are different approaches possible. First let's see the less elegant approach. The other approach will come later in the chapter of the List comprehensions."
   ]
  },
  {
   "cell_type": "code",
   "execution_count": 13,
   "metadata": {},
   "outputs": [
    {
     "name": "stdout",
     "output_type": "stream",
     "text": [
      "Positions of the maximum:  [0, 6]\n"
     ]
    }
   ],
   "source": [
    "PositionsOfMax = []\n",
    "for i in range(len(L)):\n",
    "    if L[i] == Maximum:\n",
    "        PositionsOfMax.append(i)\n",
    "print(\"Positions of the maximum: \", PositionsOfMax)"
   ]
  },
  {
   "cell_type": "markdown",
   "metadata": {},
   "source": [
    "### Exercise 2\n",
    "\n",
    "1. Create a dictionary, which contains as keys all the elements of a list and as values the corresponding number of occurences in the list.\n",
    "\n",
    "For example for the list \n",
    "```L = [1, 2, 3, 2]```\n",
    "the corresponding dictionary would be\n",
    "```{1:1, 2: 2, 3:1}```.\n",
    "\n",
    "2. Knowing that the year started with a day of Monday, determine on what day of the week would fall the 100-th, 243-th, 301-th day of the year."
   ]
  },
  {
   "cell_type": "markdown",
   "metadata": {},
   "source": [
    "### Solution to part 1"
   ]
  },
  {
   "cell_type": "code",
   "execution_count": 14,
   "metadata": {},
   "outputs": [
    {
     "ename": "NameError",
     "evalue": "name 'd' is not defined",
     "output_type": "error",
     "traceback": [
      "\u001b[0;31m---------------------------------------------------------------------------\u001b[0m",
      "\u001b[0;31mNameError\u001b[0m                                 Traceback (most recent call last)",
      "\u001b[0;32m<ipython-input-14-881742aadcb9>\u001b[0m in \u001b[0;36m<module>\u001b[0;34m()\u001b[0m\n\u001b[1;32m      3\u001b[0m \u001b[0;32mfor\u001b[0m \u001b[0melement\u001b[0m \u001b[0;32min\u001b[0m \u001b[0mL\u001b[0m\u001b[0;34m:\u001b[0m\u001b[0;34m\u001b[0m\u001b[0;34m\u001b[0m\u001b[0m\n\u001b[1;32m      4\u001b[0m     \u001b[0;32mif\u001b[0m \u001b[0melement\u001b[0m \u001b[0;32min\u001b[0m \u001b[0mD\u001b[0m\u001b[0;34m.\u001b[0m\u001b[0mkeys\u001b[0m\u001b[0;34m(\u001b[0m\u001b[0;34m)\u001b[0m\u001b[0;34m:\u001b[0m\u001b[0;34m\u001b[0m\u001b[0;34m\u001b[0m\u001b[0m\n\u001b[0;32m----> 5\u001b[0;31m         \u001b[0md\u001b[0m\u001b[0;34m[\u001b[0m\u001b[0melement\u001b[0m\u001b[0;34m]\u001b[0m \u001b[0;34m=\u001b[0m \u001b[0md\u001b[0m\u001b[0;34m[\u001b[0m\u001b[0melement\u001b[0m\u001b[0;34m]\u001b[0m \u001b[0;34m+\u001b[0m \u001b[0;36m1\u001b[0m\u001b[0;34m\u001b[0m\u001b[0;34m\u001b[0m\u001b[0m\n\u001b[0m\u001b[1;32m      6\u001b[0m     \u001b[0;32melse\u001b[0m\u001b[0;34m:\u001b[0m\u001b[0;34m\u001b[0m\u001b[0;34m\u001b[0m\u001b[0m\n\u001b[1;32m      7\u001b[0m         \u001b[0mD\u001b[0m\u001b[0;34m[\u001b[0m\u001b[0melement\u001b[0m\u001b[0;34m]\u001b[0m \u001b[0;34m=\u001b[0m \u001b[0;36m1\u001b[0m\u001b[0;34m\u001b[0m\u001b[0;34m\u001b[0m\u001b[0m\n",
      "\u001b[0;31mNameError\u001b[0m: name 'd' is not defined"
     ]
    }
   ],
   "source": [
    "L = [1, 2, \"a\", 2, 3, 2, 2, 2, \"a\"]\n",
    "D = {}\n",
    "for element in L:\n",
    "    if element in D.keys():\n",
    "        d[element] = d[element] + 1\n",
    "    else:\n",
    "        D[element] = 1\n",
    "print(D)"
   ]
  },
  {
   "cell_type": "markdown",
   "metadata": {},
   "source": [
    "### Solution to part 2\n",
    "\n",
    "without dictionaries"
   ]
  },
  {
   "cell_type": "code",
   "execution_count": null,
   "metadata": {},
   "outputs": [],
   "source": [
    "DayOfYear = 100\n",
    "DayOfWeekInCode = 100 % 7\n",
    "\n",
    "if DayOfWeekInCode == 0:\n",
    "    print(\"Sunday\")\n",
    "elif DayOfWeekInCode == 1:\n",
    "    print(\"Monday\")\n",
    "elif DayOfWeekInCode == 2:\n",
    "    print(\"Tuesday\")\n",
    "elif DayOfWeekInCode == 3:\n",
    "    print(\"Wednesday\")\n",
    "elif DayOfWeekInCode == 4:\n",
    "    print(\"Thursday\")\n",
    "elif DayOfWeekInCode == 5:\n",
    "    print(\"Friday\")\n",
    "else:\n",
    "    print(\"Saturday\")"
   ]
  },
  {
   "cell_type": "markdown",
   "metadata": {},
   "source": [
    "with dictionaries"
   ]
  },
  {
   "cell_type": "code",
   "execution_count": null,
   "metadata": {},
   "outputs": [],
   "source": [
    "DayOfYear = 100\n",
    "DayOfWeekInCode = 100 % 7\n",
    "WeekDaysFromCodes = {0: \"Sunday\", 1: \"Monday\", 2: \"Tuesday\", 3: \"Wednesday\", 4: \"Thursday\", 5: \"Friday\", 6: \"Saturday\"}\n",
    "\n",
    "print(WeekDaysFromCodes[DayOfWeekInCode])"
   ]
  },
  {
   "cell_type": "markdown",
   "metadata": {},
   "source": [
    "### Exercise 3\n",
    "\n",
    "1. Write code which checks whether a given number ```a``` is a multiple of ```b``` and write your result as a text message.\n",
    "2. A leap year is a year of 366 days in the Gregorian calendar. It is a year whose number is exactly divisible by 4, or, in case of the final year of a century, by 400. Determine whether a given year leapyear is or not."
   ]
  },
  {
   "cell_type": "markdown",
   "metadata": {},
   "source": [
    "### Solution to part 1\n",
    "\n",
    "Pay attention to the way the result is printed out. To find out more about the possibility of formatting the output take a look at the following links: [formatted output 2](https://www.python-course.eu/python3_formatted_output.php), [formatted output 2](https://pyformat.info/)."
   ]
  },
  {
   "cell_type": "code",
   "execution_count": null,
   "metadata": {},
   "outputs": [],
   "source": [
    "a = 20\n",
    "b = 6\n",
    "if a % b == 0:\n",
    "    print(\"{} is a multiple of {}.\".format(a,b))\n",
    "else:\n",
    "    print(\"{} is not a multiple of {}.\".format(a,b))"
   ]
  },
  {
   "cell_type": "markdown",
   "metadata": {},
   "source": [
    "### Solution to part 2"
   ]
  },
  {
   "cell_type": "code",
   "execution_count": null,
   "metadata": {},
   "outputs": [],
   "source": [
    "year = 23\n",
    "LeapYear = False\n",
    "if year % 4 == 0:\n",
    "    if year % 100 == 0:\n",
    "        if year % 400 == 0:\n",
    "            LeapYear = True\n",
    "        else:\n",
    "            LeapYear = False\n",
    "    else:\n",
    "        LeapYear = True\n",
    "else:\n",
    "    LeapYear = False\n",
    "print(LeapYear)"
   ]
  },
  {
   "cell_type": "markdown",
   "metadata": {},
   "source": [
    "### Exercise 4\n",
    "\n",
    "Determine the starting position and ending position of the longest sequence of consecutive 0-s in a given list."
   ]
  },
  {
   "cell_type": "markdown",
   "metadata": {},
   "source": [
    "### Exercise 5\n",
    "\n",
    "Turn back to the exercises in Chapters about Control flow statements (Chapter 6) and Built-in data structures (Cahpter 7) and create out of them meaningful functions. "
   ]
  },
  {
   "cell_type": "markdown",
   "metadata": {},
   "source": [
    "### Solution\n",
    "\n",
    "We will just exemplify this process of transforming a reusable block of code into a function, by identifying its inputs and outputs and putting its text in the body of a function."
   ]
  },
  {
   "cell_type": "code",
   "execution_count": null,
   "metadata": {},
   "outputs": [],
   "source": [
    "def OccurencesInList(L):\n",
    "    \"\"\"For the given list L the function returns a dictionary having as keys the pairwise different elements of the list and the corresponding values indicate the number of occurences.\"\"\"\n",
    "    D = {}\n",
    "    for element in L:\n",
    "        if element in D.keys():\n",
    "            D[element] = D[element] + 1\n",
    "        else:\n",
    "            D[element] = 1\n",
    "    return(D)"
   ]
  },
  {
   "cell_type": "markdown",
   "metadata": {},
   "source": [
    "We call the function for a given list."
   ]
  },
  {
   "cell_type": "code",
   "execution_count": null,
   "metadata": {},
   "outputs": [],
   "source": [
    "OccurencesInList([\"asd\", 2, 3, 1, 2, \"asd\", \"asd\"])"
   ]
  },
  {
   "cell_type": "markdown",
   "metadata": {},
   "source": [
    "Another function:"
   ]
  },
  {
   "cell_type": "code",
   "execution_count": null,
   "metadata": {},
   "outputs": [],
   "source": [
    "def IsLeapYear(year):\n",
    "    \"\"\"For a given year the function returns a Boolean variable telling whether the year is a leap year.\"\"\"\n",
    "    LeapYear = False\n",
    "    if year % 4 == 0:\n",
    "        if year % 100 == 0:\n",
    "            if year % 400 == 0:\n",
    "                LeapYear = True\n",
    "            else:\n",
    "                LeapYear = False\n",
    "        else:\n",
    "            LeapYear = True\n",
    "    else:\n",
    "        LeapYear = False\n",
    "    return LeapYear"
   ]
  },
  {
   "cell_type": "markdown",
   "metadata": {},
   "source": [
    "We test the function for the input year 203."
   ]
  },
  {
   "cell_type": "code",
   "execution_count": null,
   "metadata": {},
   "outputs": [],
   "source": [
    "IsLeapYear(203)"
   ]
  },
  {
   "cell_type": "markdown",
   "metadata": {},
   "source": [
    "### Exercise 6\n",
    "\n",
    "1. Let's come back to one of our previous exercise contexts. Create a function out of one of them and raise an error in this function.\n",
    "2. Call the above function for an input, which will raise an exception, catch the error that you raised in your function and redefine the reaction to it."
   ]
  },
  {
   "cell_type": "markdown",
   "metadata": {},
   "source": [
    "### Solution\n",
    "\n",
    "1. Let's create a function that raises an error and try it out."
   ]
  },
  {
   "cell_type": "code",
   "execution_count": null,
   "metadata": {},
   "outputs": [],
   "source": [
    "def Is_PosNegZero(x):\n",
    "    if isinstance(x,float) or isinstance(x, int):\n",
    "        if x == 0:\n",
    "            return \"is zero\"\n",
    "        elif x > 0:\n",
    "            return \"is positive\"\n",
    "        else:\n",
    "            return \"is negative\"\n",
    "    else:\n",
    "        raise TypeError(\"The input variable is not supported. The function can be called just for real numbers.\")"
   ]
  },
  {
   "cell_type": "code",
   "execution_count": null,
   "metadata": {},
   "outputs": [],
   "source": [
    "Is_PosNegZero(\"one\")"
   ]
  },
  {
   "cell_type": "markdown",
   "metadata": {},
   "source": [
    "2. Let's call the above function and suppress the reaction to the error."
   ]
  },
  {
   "cell_type": "code",
   "execution_count": null,
   "metadata": {},
   "outputs": [],
   "source": [
    "x = \"vbn\"\n",
    "try:\n",
    "    Is_PosNegZero(x)\n",
    "except:\n",
    "    print(\"Next time give me as input a real number.\")"
   ]
  },
  {
   "cell_type": "markdown",
   "metadata": {},
   "source": [
    "### Exercise 7\n",
    "\n",
    "Consider whether enumerate could be used to determine all the positions in a list, which contain the maximal element."
   ]
  },
  {
   "cell_type": "markdown",
   "metadata": {},
   "source": [
    "### Solution"
   ]
  },
  {
   "cell_type": "code",
   "execution_count": null,
   "metadata": {},
   "outputs": [],
   "source": [
    "L = [2, 5, 1, -1, 5, 3]\n",
    "maxpos = []\n",
    "Max = max(L)\n",
    "for i, val in enumerate(L):\n",
    "    if val == Max:\n",
    "        maxpos.append(i)\n",
    "print(maxpos)"
   ]
  }
 ],
 "metadata": {
  "kernelspec": {
   "display_name": "Python 3",
   "language": "python",
   "name": "python3"
  },
  "language_info": {
   "codemirror_mode": {
    "name": "ipython",
    "version": 3
   },
   "file_extension": ".py",
   "mimetype": "text/x-python",
   "name": "python",
   "nbconvert_exporter": "python",
   "pygments_lexer": "ipython3",
   "version": "3.6.8"
  }
 },
 "nbformat": 4,
 "nbformat_minor": 2
}
